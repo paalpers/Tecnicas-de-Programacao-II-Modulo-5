{
 "cells": [
  {
   "cell_type": "markdown",
   "id": "de0fac3c",
   "metadata": {},
   "source": [
    "# Módulo 5 - Técnicas de Programação II\n",
    "## Aula 4\n",
    "- Gráficos com Plotly\n",
    "- Exercícios"
   ]
  },
  {
   "cell_type": "markdown",
   "id": "a3848f44",
   "metadata": {},
   "source": [
    "## Exercício\n",
    "Agora é hora de praticar!  \n",
    "  \n",
    "Faremos os mesmos exercícios praticados na aula passada, porém agora com o Plotly, para verificarmos as diferenças entre ambos.\n",
    "  \n",
    "Os bancos obtêm uma receita importante com empréstimos concedidos. Mas muitas vezes está associado ao risco. O mutuário pode não pagar o empréstimo. Para mitigar esse problema, os bancos decidiram usar o Machine Learning para superar esse problema. Eles coletaram dados anteriores sobre os tomadores de empréstimos e gostariam que você desenvolvesse um modelo de ML forte para classificar se algum novo devedor provavelmente entrará em default ou não.  \n",
    "  \n",
    "O conjunto de dados é enorme e consiste em vários fatores determinísticos, como renda do mutuário, gênero, finalidade do empréstimo, etc. O conjunto de dados está sujeito a uma forte multicolinearidade e valores vazios. Você pode superar esses fatores e construir um classificador forte para prever inadimplentes?"
   ]
  },
  {
   "cell_type": "markdown",
   "id": "d46cf823",
   "metadata": {},
   "source": [
    "Importe a base **Loan_Default.csv** que está em csv dentro do diretório **data**."
   ]
  },
  {
   "cell_type": "code",
   "execution_count": null,
   "id": "8a440e00",
   "metadata": {},
   "outputs": [],
   "source": [
    "import pandas as pd\n",
    "df_loan = pd.read_csv('./data/loan_default.csv')\n",
    "df_loan.head()"
   ]
  },
  {
   "cell_type": "code",
   "execution_count": null,
   "id": "48a33239",
   "metadata": {
    "scrolled": true
   },
   "outputs": [],
   "source": [
    "df_loan.columns"
   ]
  },
  {
   "cell_type": "markdown",
   "id": "aea84c03",
   "metadata": {},
   "source": [
    "Verifique com a função .info os campos presentes na tabela"
   ]
  },
  {
   "cell_type": "code",
   "execution_count": null,
   "id": "410524e6",
   "metadata": {
    "scrolled": false
   },
   "outputs": [],
   "source": [
    "df_loan.info()"
   ]
  },
  {
   "cell_type": "markdown",
   "id": "cd9dd0b7",
   "metadata": {},
   "source": [
    "Imprima as estatísticas padrões do dataframe com a função .describe"
   ]
  },
  {
   "cell_type": "code",
   "execution_count": null,
   "id": "a46c3178",
   "metadata": {},
   "outputs": [],
   "source": [
    "df_loan.describe()"
   ]
  },
  {
   "cell_type": "markdown",
   "id": "fcb2e57b",
   "metadata": {},
   "source": [
    "### Gráficos"
   ]
  },
  {
   "cell_type": "code",
   "execution_count": null,
   "id": "125db3ed",
   "metadata": {},
   "outputs": [],
   "source": [
    "df_status=df_loan['Status'].value_counts()"
   ]
  },
  {
   "cell_type": "markdown",
   "id": "fd9a4007",
   "metadata": {},
   "source": [
    "1) Verifique sua variável de interesse (Status) como a contagem de distribuição"
   ]
  },
  {
   "cell_type": "code",
   "execution_count": null,
   "id": "28a0b114",
   "metadata": {},
   "outputs": [],
   "source": [
    "px.histogram(df_loan, 'Status', nbins=10)"
   ]
  },
  {
   "cell_type": "code",
   "execution_count": null,
   "id": "52983dd9",
   "metadata": {},
   "outputs": [],
   "source": [
    "px.bar(x=df_status.index, y=df_status.values)"
   ]
  },
  {
   "cell_type": "markdown",
   "id": "f8ac0ec9",
   "metadata": {},
   "source": [
    "2) Construa um gráfico de barras que permita verificar a Bad Rate (média da coluna Status) por tipo de crédito oferecido (credit_type). "
   ]
  },
  {
   "cell_type": "code",
   "execution_count": null,
   "id": "a21d0c85",
   "metadata": {
    "scrolled": false
   },
   "outputs": [],
   "source": [
    "df_br = df_loan.pivot_table(index='credit_type', values='Status', aggfunc='mean')\n",
    "px.bar(x=df_br.index, y=df_br['Status'])"
   ]
  },
  {
   "cell_type": "markdown",
   "id": "9996bd14",
   "metadata": {},
   "source": []
  },
  {
   "cell_type": "markdown",
   "id": "7360bc1b",
   "metadata": {},
   "source": [
    "3) Faça um gráfico de dispersão da Credit Score pela média do Status"
   ]
  },
  {
   "cell_type": "code",
   "execution_count": null,
   "id": "29ef5fdb",
   "metadata": {},
   "outputs": [],
   "source": [
    "px.scatter(df_creditscore)"
   ]
  },
  {
   "cell_type": "code",
   "execution_count": null,
   "id": "d6512349",
   "metadata": {},
   "outputs": [],
   "source": [
    "df_creditscore = df_loan.pivot_table(index='Credit_Score', values='Status', aggfunc='mean')\n",
    "px.scatter(x=df_creditscore.index, y=df_creditscore['Status'])"
   ]
  },
  {
   "cell_type": "markdown",
   "id": "8f563dc1",
   "metadata": {},
   "source": []
  },
  {
   "cell_type": "markdown",
   "id": "0677a702",
   "metadata": {},
   "source": [
    "4) Por meio de um gráfico de dispersão, identifique o comportamento da média da variável de interesse (Status) por faixa etária"
   ]
  },
  {
   "cell_type": "code",
   "execution_count": null,
   "id": "d6e479da",
   "metadata": {},
   "outputs": [],
   "source": [
    "df_loan['age'] = pd.Categorical(df_loan['age'], ['<25', '25-34', '35-44', '45-54', '55-64', '65-74', '>74'])"
   ]
  },
  {
   "cell_type": "code",
   "execution_count": null,
   "id": "36939a40",
   "metadata": {},
   "outputs": [],
   "source": [
    "df_age = df_loan.pivot_table(index='age', values='Status', aggfunc='mean')\n",
    "px.scatter(df_age)"
   ]
  },
  {
   "cell_type": "code",
   "execution_count": null,
   "id": "6c385f38",
   "metadata": {},
   "outputs": [],
   "source": [
    "df_age = df_loan.pivot_table(index='age', values='Credit_Score', aggfunc='mean')\n",
    "px.scatter(df_age)"
   ]
  },
  {
   "cell_type": "markdown",
   "id": "991a3ca4",
   "metadata": {},
   "source": []
  },
  {
   "cell_type": "markdown",
   "id": "0eb2434f",
   "metadata": {},
   "source": [
    "4) Construa o histograma do montante de dívida (loan_amount) e verifique como está sua distribuição. Observe o mesmo com um gráfico boxplot."
   ]
  },
  {
   "cell_type": "code",
   "execution_count": null,
   "id": "afc2f056",
   "metadata": {
    "scrolled": false
   },
   "outputs": [],
   "source": [
    "px.histogram(df_loan['loan_amount'])"
   ]
  },
  {
   "cell_type": "code",
   "execution_count": null,
   "id": "f66866e4",
   "metadata": {},
   "outputs": [],
   "source": [
    "px.box(df_loan['loan_amount'])"
   ]
  },
  {
   "cell_type": "markdown",
   "id": "d06c1aa3",
   "metadata": {},
   "source": []
  },
  {
   "cell_type": "markdown",
   "id": "c7cc10b5",
   "metadata": {},
   "source": [
    "5) Como se encontra a distribuição das faixas-etárias nesta base de dados.  \n",
    "*Obs.: utilize o gráfico de pizza*"
   ]
  },
  {
   "cell_type": "code",
   "execution_count": null,
   "id": "4fb171c5",
   "metadata": {},
   "outputs": [],
   "source": [
    "df_age_count=df_loan['age'].value_counts()\n",
    "px.pie(names=df_age_count.index, values=df_age_count.values)"
   ]
  },
  {
   "cell_type": "markdown",
   "id": "b251b382",
   "metadata": {},
   "source": []
  },
  {
   "cell_type": "markdown",
   "id": "99507692",
   "metadata": {},
   "source": [
    "**Extra**: Primeiramente imagine uma hipótese de relação entre idade, renda e score de crédito dos indivíduos presenes neste dataframe. Agora, com auxílio gráfico, entenda se a relação que existe está dentro da hipótese ou não."
   ]
  },
  {
   "cell_type": "code",
   "execution_count": null,
   "id": "7b0f25ef",
   "metadata": {},
   "outputs": [],
   "source": [
    "px.scatter(df_loan, 'age', 'income', color='Credit_Score')"
   ]
  },
  {
   "cell_type": "code",
   "execution_count": null,
   "id": "1b80e516",
   "metadata": {},
   "outputs": [],
   "source": [
    "df2 = df_loan[['Credit_Score', 'income', 'age']].copy()\n",
    "df2.dropna(inplace=True)\n",
    "\n",
    "px.scatter(data_frame=df2, x='Credit_Score', y='income', \n",
    "            facet_row='age', opacity=0.5,\n",
    "            width=1000, height=800)"
   ]
  },
  {
   "cell_type": "markdown",
   "id": "af012c66",
   "metadata": {},
   "source": []
  }
 ],
 "metadata": {
  "kernelspec": {
   "display_name": "Python 3 (ipykernel)",
   "language": "python",
   "name": "python3"
  },
  "language_info": {
   "codemirror_mode": {
    "name": "ipython",
    "version": 3
   },
   "file_extension": ".py",
   "mimetype": "text/x-python",
   "name": "python",
   "nbconvert_exporter": "python",
   "pygments_lexer": "ipython3",
   "version": "3.9.7"
  }
 },
 "nbformat": 4,
 "nbformat_minor": 5
}
