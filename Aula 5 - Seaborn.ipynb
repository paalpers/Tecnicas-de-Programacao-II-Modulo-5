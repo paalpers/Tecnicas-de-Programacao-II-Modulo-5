{
 "cells": [
  {
   "cell_type": "markdown",
   "id": "de0fac3c",
   "metadata": {},
   "source": [
    "# Módulo 5 - Técnicas de Programação II\n",
    "## Aula 5\n",
    "- Gráficos com Seaborn\n",
    "- Exercícios"
   ]
  },
  {
   "cell_type": "markdown",
   "id": "75b29d81",
   "metadata": {},
   "source": [
    "## Gráficos com Seaborn\n",
    "Seaborn é uma biblioteca de visualização de dados Python baseada em matplotlib. Ele fornece uma interface de alto nível para desenhar gráficos estatísticos atraentes e informativos.\n",
    "  \n",
    "**Documentação**: https://seaborn.pydata.org/  \n",
    "**Paleta de cores**: https://seaborn.pydata.org/tutorial/color_palettes.html"
   ]
  },
  {
   "cell_type": "markdown",
   "id": "cf8dade5",
   "metadata": {},
   "source": [
    "### Instalação\n",
    "Caso não tenha instalado o pacote do **Seaborn** ou está na dúvida, basta rodar o seguinte código:"
   ]
  },
  {
   "cell_type": "code",
   "execution_count": null,
   "id": "9c637b25",
   "metadata": {},
   "outputs": [],
   "source": [
    "!pip install seaborn"
   ]
  },
  {
   "cell_type": "markdown",
   "id": "189a597a",
   "metadata": {},
   "source": [
    "### Import da biblioteca\n",
    "  \n",
    "Como já é padrão importaremos a biblioteca seaborn. Diferentemente do matplotlib e plotly, não será necessário indicar um submódulo."
   ]
  },
  {
   "cell_type": "code",
   "execution_count": null,
   "id": "57e54140",
   "metadata": {},
   "outputs": [],
   "source": [
    "import seaborn as sns"
   ]
  },
  {
   "cell_type": "markdown",
   "id": "41b0883d",
   "metadata": {},
   "source": [
    "Novamente iniciaremos a notação de entendimento da biblioteca com um exemplo simples com apenas duas listas, *x* e *y*, contenco alguns pontos. Para utilizar o **seaborn** basta chamá-lo por meio do alias sns seguido do tipo de gráfico desejado."
   ]
  },
  {
   "cell_type": "code",
   "execution_count": null,
   "id": "ea6297fb",
   "metadata": {},
   "outputs": [],
   "source": [
    "x = [1, 2, 3, 4, 5 ,6]\n",
    "y = [10, 5, 3, 4, 6, 8]\n",
    "sns.scatterplot(x,y);"
   ]
  },
  {
   "cell_type": "markdown",
   "id": "0920a148",
   "metadata": {},
   "source": [
    "Você pode notar que o gráfico é extremamente semelhante ao proveniente do matplotlib, o que não é por acaso, visto que o seaborn é baseado no próprio matplotlib."
   ]
  },
  {
   "cell_type": "markdown",
   "id": "3aa4b94c",
   "metadata": {},
   "source": [
    "Vamos importar também outros pacotes padrões"
   ]
  },
  {
   "cell_type": "code",
   "execution_count": null,
   "id": "40e33bed",
   "metadata": {},
   "outputs": [],
   "source": [
    "import pandas as pd\n",
    "import numpy as np\n",
    "import matplotlib.pyplot as plt\n",
    "\n",
    "%matplotlib inline"
   ]
  },
  {
   "cell_type": "markdown",
   "id": "672981a3",
   "metadata": {},
   "source": [
    "## Scatter (dispersão)\n",
    "**Documentação**: https://seaborn.pydata.org/generated/seaborn.scatterplot.html"
   ]
  },
  {
   "cell_type": "code",
   "execution_count": null,
   "id": "58eea09b",
   "metadata": {
    "scrolled": false
   },
   "outputs": [],
   "source": [
    "x = [1, 2, 3, 4, 5 ,6]\n",
    "y = [10, 5, 3, 4, 6, 8]\n",
    "z=['a', 'b', 'c', 'c', 'a', 'a']\n",
    "sns.scatterplot(x,y, hue=z);"
   ]
  },
  {
   "cell_type": "markdown",
   "id": "1cc26dfa",
   "metadata": {},
   "source": [
    "Importando o dataset dos pinguins"
   ]
  },
  {
   "cell_type": "code",
   "execution_count": null,
   "id": "dcd99c0e",
   "metadata": {},
   "outputs": [],
   "source": [
    "df_size = pd.read_csv('./data/penguins_size.csv')\n",
    "df_size.head()"
   ]
  },
  {
   "cell_type": "code",
   "execution_count": null,
   "id": "eef2efeb",
   "metadata": {},
   "outputs": [],
   "source": [
    "sns.scatterplot(data=df_size, x='body_mass_g', y='culmen_depth_mm');"
   ]
  },
  {
   "cell_type": "markdown",
   "id": "ca313e7e",
   "metadata": {},
   "source": [
    "Podemos alterar as cores dos marcadores através de alguma variável do próprio dataframe como por exemplo o sexo dos pinguins.  O parâmetro *hue* é responsável pela mudança das cores na marcação dos pontos por meio de uma das colunas do próprio dataframe."
   ]
  },
  {
   "cell_type": "code",
   "execution_count": null,
   "id": "bfc417bc",
   "metadata": {
    "scrolled": false
   },
   "outputs": [],
   "source": [
    "sns.scatterplot(data=df_size, x='body_mass_g', y='culmen_depth_mm', hue='sex');"
   ]
  },
  {
   "cell_type": "code",
   "execution_count": null,
   "id": "f61bc390",
   "metadata": {},
   "outputs": [],
   "source": [
    "sns.scatterplot(data=df_size, x='body_mass_g', y='culmen_depth_mm', hue='sex', style='sex');"
   ]
  },
  {
   "cell_type": "markdown",
   "id": "58eedbe2",
   "metadata": {},
   "source": [
    "Estilizando o gráfico."
   ]
  },
  {
   "cell_type": "code",
   "execution_count": null,
   "id": "be7a653e",
   "metadata": {},
   "outputs": [],
   "source": [
    "sns.scatterplot(data=df_size, x='body_mass_g', y='culmen_depth_mm', hue='sex', style='sex', palette='rocket_r', size='flipper_length_mm');"
   ]
  },
  {
   "cell_type": "code",
   "execution_count": null,
   "id": "7aaffba3",
   "metadata": {},
   "outputs": [],
   "source": [
    "plt.figure(figsize=(12,6))\n",
    "sns.scatterplot(data=df_size, x='body_mass_g', y='culmen_depth_mm', hue='sex', palette='rocket_r', size='flipper_length_mm');"
   ]
  },
  {
   "cell_type": "markdown",
   "id": "550e6c18",
   "metadata": {},
   "source": [
    "O Seaborn possui uma plotagem semelhante ao scatter, porém feito automaticamente com todas as variáveis contínuas, o **pairplot**"
   ]
  },
  {
   "cell_type": "code",
   "execution_count": null,
   "id": "40e5b555",
   "metadata": {},
   "outputs": [],
   "source": [
    "sns.pairplot(data=df_size);"
   ]
  },
  {
   "cell_type": "markdown",
   "id": "e3cf52fb",
   "metadata": {},
   "source": [
    "## Linhas\n",
    "**Documentação**: https://seaborn.pydata.org/generated/seaborn.lineplot.html"
   ]
  },
  {
   "cell_type": "code",
   "execution_count": null,
   "id": "b277c67e",
   "metadata": {},
   "outputs": [],
   "source": [
    "df_supermarket = pd.read_csv('.\\data\\supermarket_sales.csv')\n",
    "df_supermarket.head()"
   ]
  },
  {
   "cell_type": "code",
   "execution_count": null,
   "id": "07409086",
   "metadata": {
    "scrolled": true
   },
   "outputs": [],
   "source": [
    "df_supermarket['Date'] = pd.to_datetime(df_supermarket['Date'])"
   ]
  },
  {
   "cell_type": "markdown",
   "id": "be3cfcd0",
   "metadata": {},
   "source": [
    "Na última aula nós tentamos criar um gráfico com o dataframe todo, porém como havia diversos pontos na mesma data, não foi possível visualizar a informação. O Seaborn trata esta questão de forma automática. A linha azul mais escura representa a *média* dos valores dentro do mesmo dia e o sombreado o intervalo com 95% de confiança."
   ]
  },
  {
   "cell_type": "code",
   "execution_count": null,
   "id": "b03e22a8",
   "metadata": {
    "scrolled": true
   },
   "outputs": [],
   "source": [
    "sns.lineplot(data=df_supermarket, x='Date', y='Total');"
   ]
  },
  {
   "cell_type": "code",
   "execution_count": null,
   "id": "f3fea868",
   "metadata": {},
   "outputs": [],
   "source": [
    "df_total=df_supermarket.pivot_table(index='Date', values='Total', aggfunc='sum')\n",
    "\n",
    "plt.figure(figsize=(12,6))\n",
    "\n",
    "ax = sns.lineplot(x=df_total.index, y=df_total['Total'])\n",
    "\n",
    "ax.set_title('Vendas ao longo do tempo')\n",
    "ax.set_ylabel('Total vendido (US$)')\n",
    "ax.set_xlabel('');"
   ]
  },
  {
   "cell_type": "markdown",
   "id": "24058368",
   "metadata": {},
   "source": [
    "**No mesmo Eixo**"
   ]
  },
  {
   "cell_type": "code",
   "execution_count": null,
   "id": "8affe765",
   "metadata": {
    "scrolled": false
   },
   "outputs": [],
   "source": [
    "df_payment=df_supermarket.pivot_table(index='Date', columns='Payment', values='Total', aggfunc='sum')\n",
    "sns.lineplot(data=df_payment);"
   ]
  },
  {
   "cell_type": "markdown",
   "id": "1b725461",
   "metadata": {},
   "source": [
    "Podemos estilizar o gráfico"
   ]
  },
  {
   "cell_type": "code",
   "execution_count": null,
   "id": "de1d7aca",
   "metadata": {},
   "outputs": [],
   "source": [
    "df_payment=df_supermarket.pivot_table(index='Date', columns='Payment', values='Total', aggfunc='sum')\n",
    "\n",
    "plt.figure(figsize=(12,6))\n",
    "ax=sns.lineplot(data=df_payment, palette='viridis')\n",
    "\n",
    "ax.set_title('Total de vendas em US$ por método de pagamento')\n",
    "ax.set_xlabel('')\n",
    "ax.set_ylabel('Total em US$')\n",
    "ax.legend(['Dinheiro', 'Cartão de Crédito', 'Carteira Digital'], loc='upper left', title='Método de pagamento');"
   ]
  },
  {
   "cell_type": "markdown",
   "id": "179e9530",
   "metadata": {},
   "source": [
    "**Em vários eixos**  \n",
    "Para realizar o plot do gráfico acima, porém agora em três gráficos separados, é possível utilizar o **subplots** do matplotlib e posteriormente passar cada um dos eixos criados para dentro do gráfico do **seaborn** com o parâmetro *ax*."
   ]
  },
  {
   "cell_type": "code",
   "execution_count": null,
   "id": "9a60e880",
   "metadata": {},
   "outputs": [],
   "source": [
    "df_payment.reset_index(inplace=True)\n",
    "\n",
    "fig, ax = plt.subplots(1, 3)\n",
    "\n",
    "sns.lineplot(data=df_payment, x='Date', y='Cash', ax=ax[0])\n",
    "sns.lineplot(data=df_payment, x='Date', y='Credit card', ax=ax[1])\n",
    "sns.lineplot(data=df_payment, x='Date', y='Ewallet', ax=ax[2]);"
   ]
  },
  {
   "cell_type": "code",
   "execution_count": null,
   "id": "7e540964",
   "metadata": {},
   "outputs": [],
   "source": [
    "fig, ax = plt.subplots(1, 3, figsize=(15,6))\n",
    "\n",
    "sns.lineplot(data=df_payment, x='Date', y='Cash', ax=ax[0])\n",
    "sns.lineplot(data=df_payment, x='Date', y='Credit card', ax=ax[1])\n",
    "sns.lineplot(data=df_payment, x='Date', y='Ewallet', ax=ax[2]);"
   ]
  },
  {
   "cell_type": "markdown",
   "id": "7e108538",
   "metadata": {},
   "source": [
    "Perceba que mesmo aumentando a figura não foi possível identificar de forma legível as informações do eixo x (datas), por isso realizar os subplots com 3 linhas e apenas 1 coluna pode tornar o gráfico melhor para leitura."
   ]
  },
  {
   "cell_type": "code",
   "execution_count": null,
   "id": "c026f5f9",
   "metadata": {},
   "outputs": [],
   "source": [
    "fig, ax = plt.subplots(3, 1, figsize=(15,8))\n",
    "\n",
    "sns.lineplot(data=df_payment, x='Date', y='Cash', ax=ax[0])\n",
    "sns.lineplot(data=df_payment, x='Date', y='Credit card', ax=ax[1])\n",
    "sns.lineplot(data=df_payment, x='Date', y='Ewallet', ax=ax[2]);"
   ]
  },
  {
   "cell_type": "markdown",
   "id": "cb2786f9",
   "metadata": {},
   "source": [
    "## Pizza\n",
    "**Documentação**: https://matplotlib.org/stable/api/_as_gen/matplotlib.pyplot.pie.html"
   ]
  },
  {
   "cell_type": "code",
   "execution_count": null,
   "id": "0147c772",
   "metadata": {},
   "outputs": [],
   "source": [
    "df_pizza=df_supermarket.pivot_table(index='Branch', values='Quantity', aggfunc='sum');"
   ]
  },
  {
   "cell_type": "markdown",
   "id": "88e784da",
   "metadata": {},
   "source": [
    "## Barras\n",
    "**Documentação**: https://seaborn.pydata.org/generated/seaborn.barplot.html"
   ]
  },
  {
   "cell_type": "code",
   "execution_count": null,
   "id": "8ff92e22",
   "metadata": {},
   "outputs": [],
   "source": [
    "sns.barplot(data=df_supermarket, x='Branch', y='Total');"
   ]
  },
  {
   "cell_type": "code",
   "execution_count": null,
   "id": "1194da71",
   "metadata": {},
   "outputs": [],
   "source": [
    "df_bar_1 = df_supermarket.pivot_table(index='Branch', values='Total', aggfunc='sum')\n",
    "df_bar_1.reset_index(inplace=True)\n",
    "\n",
    "sns.barplot(data=df_bar_1, x='Branch', y='Total');"
   ]
  },
  {
   "cell_type": "code",
   "execution_count": null,
   "id": "6cd62c4f",
   "metadata": {},
   "outputs": [],
   "source": [
    "df_supermarket.head()"
   ]
  },
  {
   "cell_type": "code",
   "execution_count": null,
   "id": "b5497b26",
   "metadata": {
    "scrolled": true
   },
   "outputs": [],
   "source": [
    "sns.barplot(data=df_supermarket, x='Branch', y='Total', hue='Gender');"
   ]
  },
  {
   "cell_type": "code",
   "execution_count": null,
   "id": "b600cbd7",
   "metadata": {},
   "outputs": [],
   "source": [
    "plt.figure(figsize=(12,6))\n",
    "sns.barplot(data=df_supermarket, x='Branch', y='Total', hue='Gender');"
   ]
  },
  {
   "cell_type": "markdown",
   "id": "950197ce",
   "metadata": {},
   "source": [
    "**Barras Horizontais**\n",
    "Para criar o gráfico de barras horizontais basta alterar a ordem dos parâmetros *x* e *y*."
   ]
  },
  {
   "cell_type": "code",
   "execution_count": null,
   "id": "e471e1cf",
   "metadata": {},
   "outputs": [],
   "source": [
    "plt.figure(figsize=(12,6))\n",
    "sns.barplot(data=df_supermarket, y='Branch', x='Total', hue='Gender')\n",
    "\n",
    "#MANTER SOMENTE NO GABARITO\n",
    "plt.title('Média do total vendido por marca em cada gênero')\n",
    "plt.ylabel('Marca')\n",
    "plt.xlabel('Total vendido em US$')\n",
    "plt.legend(loc='upper right', title='Gênero');"
   ]
  },
  {
   "cell_type": "markdown",
   "id": "47b5af03",
   "metadata": {},
   "source": [
    "## Histograma\n",
    "**Documentação**: https://seaborn.pydata.org/generated/seaborn.histplot.html"
   ]
  },
  {
   "cell_type": "code",
   "execution_count": null,
   "id": "82fc364e",
   "metadata": {
    "scrolled": true
   },
   "outputs": [],
   "source": [
    "sns.histplot(data=df_size, x='body_mass_g', bins=50);"
   ]
  },
  {
   "cell_type": "code",
   "execution_count": null,
   "id": "032dac34",
   "metadata": {},
   "outputs": [],
   "source": [
    "sns.distplot(x=df_size['body_mass_g']);"
   ]
  },
  {
   "cell_type": "markdown",
   "id": "88db82af",
   "metadata": {},
   "source": [
    "## Boxplot\n",
    "**Documentação**: https://seaborn.pydata.org/generated/seaborn.boxplot.html"
   ]
  },
  {
   "cell_type": "code",
   "execution_count": null,
   "id": "1bdcd15c",
   "metadata": {},
   "outputs": [],
   "source": [
    "sns.boxplot(data=df_size, x='body_mass_g');"
   ]
  },
  {
   "cell_type": "code",
   "execution_count": null,
   "id": "d093324d",
   "metadata": {},
   "outputs": [],
   "source": [
    "plt.figure(figsize=(3,5))\n",
    "sns.boxplot(data=df_size, y='body_mass_g', palette='viridis')\n",
    "\n",
    "plt.ylabel('Massa corporal (g)');"
   ]
  },
  {
   "cell_type": "markdown",
   "id": "45ca0806",
   "metadata": {},
   "source": [
    "## Heatmap\n",
    "**Documentação**: https://seaborn.pydata.org/generated/seaborn.heatmap.html"
   ]
  },
  {
   "cell_type": "code",
   "execution_count": null,
   "id": "52d73138",
   "metadata": {},
   "outputs": [],
   "source": [
    "df_corr=df_size[['culmen_length_mm', 'culmen_depth_mm', 'flipper_length_mm', 'body_mass_g']]\n",
    "corr=df_corr.corr()\n",
    "corr"
   ]
  },
  {
   "cell_type": "code",
   "execution_count": null,
   "id": "2a1181ca",
   "metadata": {},
   "outputs": [],
   "source": [
    "sns.heatmap(corr, cmap='coolwarm');"
   ]
  },
  {
   "cell_type": "markdown",
   "id": "a3848f44",
   "metadata": {},
   "source": [
    "## Exercício\n",
    "Agora é hora de praticar!  \n",
    "  \n",
    "O conjunto de dados foi baixado da UCI Machine Learning Repository.\n",
    "\n",
    "Originalmente existiam dois dataframes relacionados com variantes tinto e branco do vinho português \"Vinho Verde\". Porém para a nossa prática apenas aquele referente aos vinhos brancos será utilizado. Por questões de privacidade e logística, apenas variáveis físico-químicas (entradas) e sensoriais (saídas) estão disponíveis (por exemplo, não há dados sobre tipos de uva, marca de vinho, preço de venda do vinho, etc.).\n",
    "  \n",
    "  \n",
    "Metadados:\n",
    "  \n",
    "Variáveis de entrada (físico-químicos):  \n",
    "1 - fixed acidity  \n",
    "2 - volatile acidity  \n",
    "3 - citric acid  \n",
    "4 - residual sugar  \n",
    "5 - chlorides  \n",
    "6 - free sulfur dioxide  \n",
    "7 - total sulfur dioxide  \n",
    "8 - density  \n",
    "9 - pH  \n",
    "10 - sulphates  \n",
    "11 - alcohol  \n",
    "  \n",
    "Variável resposta (Sensorial):  \n",
    "12 - quality (score between 0 and 10)"
   ]
  },
  {
   "cell_type": "markdown",
   "id": "d46cf823",
   "metadata": {},
   "source": [
    "Importe a base **winequality-white.csv** que está em csv dentro do diretório **data**."
   ]
  },
  {
   "cell_type": "code",
   "execution_count": null,
   "id": "438af1a7",
   "metadata": {},
   "outputs": [],
   "source": []
  },
  {
   "cell_type": "code",
   "execution_count": null,
   "id": "e6b227ec",
   "metadata": {},
   "outputs": [],
   "source": []
  },
  {
   "cell_type": "markdown",
   "id": "aea84c03",
   "metadata": {},
   "source": [
    "Verifique com a função **.info** os campos presentes na tabela"
   ]
  },
  {
   "cell_type": "code",
   "execution_count": null,
   "id": "410524e6",
   "metadata": {
    "scrolled": false
   },
   "outputs": [],
   "source": []
  },
  {
   "cell_type": "markdown",
   "id": "cd9dd0b7",
   "metadata": {},
   "source": [
    "Imprima as estatísticas padrões do dataframe com a função **.describe**"
   ]
  },
  {
   "cell_type": "code",
   "execution_count": null,
   "id": "a46c3178",
   "metadata": {},
   "outputs": [],
   "source": []
  },
  {
   "cell_type": "markdown",
   "id": "fcb2e57b",
   "metadata": {},
   "source": [
    "### Gráficos"
   ]
  },
  {
   "cell_type": "markdown",
   "id": "da015026",
   "metadata": {},
   "source": [
    "1) Verifique a distribuição da variável resposta para este problema (quality)"
   ]
  },
  {
   "cell_type": "code",
   "execution_count": null,
   "id": "46ae5699",
   "metadata": {},
   "outputs": [],
   "source": []
  },
  {
   "cell_type": "markdown",
   "id": "b72ae429",
   "metadata": {},
   "source": [
    "2) Verifique se há outliers nas variáveis"
   ]
  },
  {
   "cell_type": "code",
   "execution_count": null,
   "id": "19f52202",
   "metadata": {
    "scrolled": false
   },
   "outputs": [],
   "source": []
  },
  {
   "cell_type": "markdown",
   "id": "fd9a4007",
   "metadata": {},
   "source": [
    "3) Construa um gráfico que permita verificar se há relação entre cada uma das variáveis retirando a qualidade dos vinhos (quality)"
   ]
  },
  {
   "cell_type": "code",
   "execution_count": null,
   "id": "65f9ac44",
   "metadata": {},
   "outputs": [],
   "source": []
  },
  {
   "cell_type": "code",
   "execution_count": null,
   "id": "defb99f4",
   "metadata": {},
   "outputs": [],
   "source": []
  },
  {
   "cell_type": "markdown",
   "id": "7360bc1b",
   "metadata": {},
   "source": [
    "4) Dê um \"zoom\" na relação entre as características de densidade e açúcar residual, visto que aparentam ter alta relação. Insira também neste gráfico a variável de qualidade, a fim de verificar se há grupos claramente separados por estas duas características."
   ]
  },
  {
   "cell_type": "code",
   "execution_count": null,
   "id": "7b911458",
   "metadata": {},
   "outputs": [],
   "source": []
  },
  {
   "cell_type": "code",
   "execution_count": null,
   "id": "d6512349",
   "metadata": {
    "scrolled": true
   },
   "outputs": [],
   "source": []
  },
  {
   "cell_type": "markdown",
   "id": "8f563dc1",
   "metadata": {},
   "source": []
  },
  {
   "cell_type": "markdown",
   "id": "f8ac0ec9",
   "metadata": {},
   "source": [
    "5) Baseado no gráfico acima, foi possíve identificar uma relação forte entre as variáveis density e residual sugar. Construa gráficos de barras para verificar a relação da média de cada uma destas características com a qualidade do vinho."
   ]
  },
  {
   "cell_type": "code",
   "execution_count": null,
   "id": "52983dd9",
   "metadata": {},
   "outputs": [],
   "source": []
  },
  {
   "cell_type": "markdown",
   "id": "9996bd14",
   "metadata": {},
   "source": []
  },
  {
   "cell_type": "markdown",
   "id": "0677a702",
   "metadata": {},
   "source": [
    "6) Construa gráficos de relação entre todas as variáveis, porém agora insira a variável de qualidade a fim de verificar se é possível separar os grupos.  \n",
    "Obs.: utilize o pairplot"
   ]
  },
  {
   "cell_type": "code",
   "execution_count": null,
   "id": "36939a40",
   "metadata": {},
   "outputs": [],
   "source": []
  },
  {
   "cell_type": "markdown",
   "id": "991a3ca4",
   "metadata": {},
   "source": []
  }
 ],
 "metadata": {
  "kernelspec": {
   "display_name": "Python 3 (ipykernel)",
   "language": "python",
   "name": "python3"
  },
  "language_info": {
   "codemirror_mode": {
    "name": "ipython",
    "version": 3
   },
   "file_extension": ".py",
   "mimetype": "text/x-python",
   "name": "python",
   "nbconvert_exporter": "python",
   "pygments_lexer": "ipython3",
   "version": "3.9.7"
  }
 },
 "nbformat": 4,
 "nbformat_minor": 5
}
