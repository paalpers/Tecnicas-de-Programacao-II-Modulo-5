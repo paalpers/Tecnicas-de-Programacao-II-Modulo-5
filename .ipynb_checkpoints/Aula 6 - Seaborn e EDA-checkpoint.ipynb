{
 "cells": [
  {
   "cell_type": "markdown",
   "id": "de0fac3c",
   "metadata": {},
   "source": [
    "# Módulo 5 - Técnicas de Programação II\n",
    "## Aula 6\n",
    "- Continuação de Gráficos com Seaborn\n",
    "- Exercícios\n",
    "- EDA"
   ]
  },
  {
   "cell_type": "markdown",
   "id": "279999f5",
   "metadata": {},
   "source": [
    "## Exploratory Data Analysis (EDA)"
   ]
  },
  {
   "cell_type": "markdown",
   "id": "4441b79b",
   "metadata": {},
   "source": [
    "### Importando Bibliotecas"
   ]
  },
  {
   "cell_type": "code",
   "execution_count": null,
   "id": "2e1a08cb",
   "metadata": {},
   "outputs": [],
   "source": [
    "import pandas as pd\n",
    "import numpy as np\n",
    "import matplotlib.pyplot as plt\n",
    "import plotly.express as px\n",
    "import seaborn as sns\n",
    "\n",
    "%matplotlib inline"
   ]
  },
  {
   "cell_type": "markdown",
   "id": "58000ecc",
   "metadata": {},
   "source": [
    "### Dataframe\n",
    "\n",
    "About this dataset  \n",
    "- age : Age of the patient  \n",
    "- sex : Sex of the patient\n",
    "- exng: exercise induced angina (1 = yes; 0 = no)\n",
    "- caa: number of major vessels (0-3)\n",
    "- cp : Chest Pain type chest pain type  \n",
    "  Value 1: typical angina  \n",
    "  Value 2: atypical angina  \n",
    "  Value 3: non-anginal pain  \n",
    "  Value 4: asymptomatic  \n",
    "- trtbps : resting blood pressure (in mm Hg)\n",
    "- chol : cholestoral in mg/dl fetched via BMI sensor\n",
    "- fbs : (fasting blood sugar > 120 mg/dl) (1 = true; 0 = false)\n",
    "- restecg : resting electrocardiographic results  \n",
    "  Value 0: normal  \n",
    "  Value 1: having ST-T wave abnormality (T wave inversions and/or ST elevation or depression of > 0.05 mV)  \n",
    "  Value 2: showing probable or definite left ventricular hypertrophy by Estes' criteria  \n",
    "- thalachh : maximum heart rate achieved\n",
    "- thall : thall rate\n",
    "- oldpeak: previous peak\n",
    "- slp: slope\n",
    "- output : 0 = less chance of heart attack 1= more chance of heart attack"
   ]
  },
  {
   "cell_type": "code",
   "execution_count": null,
   "id": "206129d2",
   "metadata": {},
   "outputs": [],
   "source": [
    "df_heart = pd.read_csv('.\\data\\heart.csv')\n",
    "df_heart.head()"
   ]
  },
  {
   "cell_type": "markdown",
   "id": "cf31ba36",
   "metadata": {},
   "source": [
    "**Informações do DatraFrame**"
   ]
  },
  {
   "cell_type": "code",
   "execution_count": null,
   "id": "ae37588d",
   "metadata": {},
   "outputs": [],
   "source": [
    "df_heart.info()"
   ]
  },
  {
   "cell_type": "markdown",
   "id": "bcdac6be",
   "metadata": {},
   "source": [
    "**Describe do DataFrame**"
   ]
  },
  {
   "cell_type": "code",
   "execution_count": null,
   "id": "80dabc60",
   "metadata": {},
   "outputs": [],
   "source": [
    "df_heart.describe()"
   ]
  },
  {
   "cell_type": "code",
   "execution_count": null,
   "id": "32f8a57e",
   "metadata": {
    "scrolled": true
   },
   "outputs": [],
   "source": [
    "df_heart.columns"
   ]
  },
  {
   "cell_type": "markdown",
   "id": "fe5686dd",
   "metadata": {},
   "source": [
    "**Separação de Variáveis**"
   ]
  },
  {
   "cell_type": "code",
   "execution_count": null,
   "id": "56fe4351",
   "metadata": {},
   "outputs": [],
   "source": [
    "target = 'output'\n",
    "vars_categ = ['sex', 'exng', 'cp', 'caa', 'fbs', 'restecg', 'slp', 'thall']\n",
    "vars_cont = ['age', 'trtbps', 'chol', 'thalachh', 'oldpeak']"
   ]
  },
  {
   "cell_type": "markdown",
   "id": "b8961a89",
   "metadata": {},
   "source": [
    "**Missing values**"
   ]
  },
  {
   "cell_type": "code",
   "execution_count": null,
   "id": "c9f5bc7a",
   "metadata": {},
   "outputs": [],
   "source": [
    "df_heart.isnull().sum()"
   ]
  },
  {
   "cell_type": "markdown",
   "id": "a079bb8c",
   "metadata": {},
   "source": [
    "### Análise Univariada\n",
    "Variável target"
   ]
  },
  {
   "cell_type": "code",
   "execution_count": null,
   "id": "e8131648",
   "metadata": {},
   "outputs": [],
   "source": [
    "sns.countplot(data=df_heart, x=target);"
   ]
  },
  {
   "cell_type": "markdown",
   "id": "ce36eeab",
   "metadata": {},
   "source": [
    "Varáveis Contínuas"
   ]
  },
  {
   "cell_type": "code",
   "execution_count": null,
   "id": "c907e54f",
   "metadata": {},
   "outputs": [],
   "source": [
    "fig, ax = plt.subplots(1, 5, figsize=(15, 6))\n",
    "\n",
    "cont=0\n",
    "for j in range(5):\n",
    "    sns.boxplot(data=df_heart, y=vars_cont[cont], ax=ax[j]);\n",
    "    cont = cont + 1\n",
    "\n",
    "fig.tight_layout(pad=3.0)"
   ]
  },
  {
   "cell_type": "code",
   "execution_count": null,
   "id": "543819a4",
   "metadata": {
    "scrolled": false
   },
   "outputs": [],
   "source": [
    "fig, ax = plt.subplots(1, 5, figsize=(15, 6))\n",
    "\n",
    "cont=0\n",
    "for j in range(5):\n",
    "    sns.histplot(data=df_heart, x=vars_cont[cont], ax=ax[j], kde=True);\n",
    "    cont = cont + 1\n",
    "\n",
    "fig.tight_layout(pad=3.0)"
   ]
  },
  {
   "cell_type": "markdown",
   "id": "78e8d8ce",
   "metadata": {},
   "source": [
    "Variáveis categóricas"
   ]
  },
  {
   "cell_type": "code",
   "execution_count": null,
   "id": "3965a653",
   "metadata": {},
   "outputs": [],
   "source": [
    "fig, ax = plt.subplots(4, 2, figsize=(12, 20))\n",
    "\n",
    "cont = 0\n",
    "for i in range(4):\n",
    "    for j in range(2):\n",
    "        sns.countplot(data=df_heart, x=vars_categ[cont], ax=ax[i][j])\n",
    "        cont = cont + 1\n",
    "        \n",
    "fig.tight_layout(pad=3.0)"
   ]
  },
  {
   "cell_type": "markdown",
   "id": "1097694c",
   "metadata": {},
   "source": [
    "### Análise Multivariada"
   ]
  },
  {
   "cell_type": "code",
   "execution_count": null,
   "id": "206cab46",
   "metadata": {
    "scrolled": false
   },
   "outputs": [],
   "source": [
    "plt.figure(figsize=(12, 6))\n",
    "sns.heatmap(df_heart.corr());"
   ]
  },
  {
   "cell_type": "code",
   "execution_count": null,
   "id": "2c2b1429",
   "metadata": {},
   "outputs": [],
   "source": [
    "plt.figure(figsize=(15,5))\n",
    "sns.countplot(x=df_heart['age'], hue=df_heart['output'])\n",
    "\n",
    "plt.legend(loc='upper right', title='target')\n",
    "plt.show()"
   ]
  },
  {
   "cell_type": "code",
   "execution_count": null,
   "id": "6484819d",
   "metadata": {},
   "outputs": [],
   "source": [
    "fig, ax = plt.subplots(4, 2, figsize=(12, 20))\n",
    "\n",
    "cont = 0\n",
    "for i in range(4):\n",
    "    for j in range(2):\n",
    "        sns.countplot(data=df_heart, x=vars_categ[cont], hue='output', ax=ax[i][j])\n",
    "        cont = cont + 1\n",
    "        \n",
    "fig.tight_layout(pad=3.0)"
   ]
  },
  {
   "cell_type": "code",
   "execution_count": null,
   "id": "a7fd1325",
   "metadata": {},
   "outputs": [],
   "source": [
    "vars_cont.append(target)\n",
    "sns.pairplot(data=df_heart[vars_cont], hue='output', corner=True);"
   ]
  },
  {
   "cell_type": "code",
   "execution_count": null,
   "id": "5189dad8",
   "metadata": {
    "scrolled": false
   },
   "outputs": [],
   "source": [
    "plt.figure(figsize=(12, 6))\n",
    "sns.scatterplot(x='caa', y='chol', hue='output', data=df_heart);"
   ]
  }
 ],
 "metadata": {
  "kernelspec": {
   "display_name": "Python 3 (ipykernel)",
   "language": "python",
   "name": "python3"
  },
  "language_info": {
   "codemirror_mode": {
    "name": "ipython",
    "version": 3
   },
   "file_extension": ".py",
   "mimetype": "text/x-python",
   "name": "python",
   "nbconvert_exporter": "python",
   "pygments_lexer": "ipython3",
   "version": "3.9.7"
  }
 },
 "nbformat": 4,
 "nbformat_minor": 5
}
